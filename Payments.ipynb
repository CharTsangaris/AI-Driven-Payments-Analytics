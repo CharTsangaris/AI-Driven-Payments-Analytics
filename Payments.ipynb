{
  "nbformat": 4,
  "nbformat_minor": 0,
  "metadata": {
    "colab": {
      "provenance": []
    },
    "kernelspec": {
      "name": "python3",
      "display_name": "Python 3"
    },
    "language_info": {
      "name": "python"
    }
  },
  "cells": [
    {
      "cell_type": "code",
      "source": [
        "from google.colab import auth\n",
        "auth.authenticate_user()\n"
      ],
      "metadata": {
        "id": "LWMiNIr42Z5F"
      },
      "execution_count": null,
      "outputs": []
    },
    {
      "cell_type": "code",
      "source": [
        "!git clone https://github.com/CharTsangaris/AI-Driven-Payments-Analytics.git\n"
      ],
      "metadata": {
        "colab": {
          "base_uri": "https://localhost:8080/"
        },
        "id": "AZz4HwC52hY2",
        "outputId": "31596d0b-96a8-4c6d-af53-00a6b8f149b2"
      },
      "execution_count": null,
      "outputs": [
        {
          "output_type": "stream",
          "name": "stdout",
          "text": [
            "Cloning into 'AI-Driven-Payments-Analytics'...\n",
            "remote: Enumerating objects: 3, done.\u001b[K\n",
            "remote: Counting objects: 100% (3/3), done.\u001b[K\n",
            "remote: Total 3 (delta 0), reused 0 (delta 0), pack-reused 0 (from 0)\u001b[K\n",
            "Receiving objects: 100% (3/3), done.\n"
          ]
        }
      ]
    },
    {
      "cell_type": "code",
      "source": [
        "%cd AI-Driven-Payments-Analytics\n"
      ],
      "metadata": {
        "colab": {
          "base_uri": "https://localhost:8080/"
        },
        "id": "4aS1sqVh2oU8",
        "outputId": "4809a504-12b0-4c03-b775-5dd60ee51144"
      },
      "execution_count": null,
      "outputs": [
        {
          "output_type": "stream",
          "name": "stdout",
          "text": [
            "/content/AI-Driven-Payments-Analytics/AI-Driven-Payments-Analytics\n"
          ]
        }
      ]
    },
    {
      "cell_type": "code",
      "source": [
        "!mv /content/Payments.ipynb /content/AI-Driven-Payments-Analytics/\n"
      ],
      "metadata": {
        "colab": {
          "base_uri": "https://localhost:8080/"
        },
        "id": "IzE6-a8-2sD2",
        "outputId": "339c1c0e-5877-4847-b01a-af158938d9d9"
      },
      "execution_count": null,
      "outputs": [
        {
          "output_type": "stream",
          "name": "stdout",
          "text": [
            "mv: cannot stat '/content/Payments.ipynb': No such file or directory\n"
          ]
        }
      ]
    },
    {
      "cell_type": "code",
      "source": [
        "!ls -a /content/"
      ],
      "metadata": {
        "colab": {
          "base_uri": "https://localhost:8080/"
        },
        "id": "MrUTr6tH3BAP",
        "outputId": "c20d91ba-466a-407c-9310-28dd358059a0"
      },
      "execution_count": null,
      "outputs": [
        {
          "output_type": "stream",
          "name": "stdout",
          "text": [
            ".  ..  AI-Driven-Payments-Analytics  .config  .git  sample_data\n"
          ]
        }
      ]
    },
    {
      "cell_type": "code",
      "source": [
        "!ls -R /content/AI-Driven-Payments-Analytics"
      ],
      "metadata": {
        "colab": {
          "base_uri": "https://localhost:8080/"
        },
        "id": "ABqUOEpE3RVQ",
        "outputId": "b24dfd59-7267-40f8-a1b4-93234c3d5ed0"
      },
      "execution_count": null,
      "outputs": [
        {
          "output_type": "stream",
          "name": "stdout",
          "text": [
            "/content/AI-Driven-Payments-Analytics:\n",
            "AI-Driven-Payments-Analytics  README.md\n",
            "\n",
            "/content/AI-Driven-Payments-Analytics/AI-Driven-Payments-Analytics:\n",
            "README.md\n"
          ]
        }
      ]
    },
    {
      "cell_type": "code",
      "source": [
        "!mv /content/AI-Driven-Payments-Analytics/AI-Driven-Payments-Analytics/* /content/AI-Driven-Payments-Analytics/\n"
      ],
      "metadata": {
        "id": "ZU0u6at93nLb"
      },
      "execution_count": null,
      "outputs": []
    },
    {
      "cell_type": "code",
      "source": [
        "!rm -rf /content/AI-Driven-Payments-Analytics/AI-Driven-Payments-Analytics\n"
      ],
      "metadata": {
        "id": "9BC1ZSEH3rPN"
      },
      "execution_count": null,
      "outputs": []
    },
    {
      "cell_type": "code",
      "source": [
        "!find /content/ -name \"Payments.ipynb\"\n"
      ],
      "metadata": {
        "colab": {
          "base_uri": "https://localhost:8080/"
        },
        "id": "hgO8KA5H4CE5",
        "outputId": "afa4b759-9b69-489a-f535-64ea6fd18c7a"
      },
      "execution_count": null,
      "outputs": [
        {
          "output_type": "stream",
          "name": "stdout",
          "text": [
            "shell-init: error retrieving current directory: getcwd: cannot access parent directories: No such file or directory\n"
          ]
        }
      ]
    }
  ]
}